{
 "cells": [
  {
   "cell_type": "markdown",
   "metadata": {},
   "source": [
    "# #GIJC2019: Demo Pandas to Google Spreadsheet\n",
    "\n",
    "First things first:\n",
    "\n",
    "```pip install --upgrade oauth2client\n",
    "pip install gspread\n",
    "pip install gspread-dataframe```"
   ]
  },
  {
   "cell_type": "code",
   "execution_count": 42,
   "metadata": {},
   "outputs": [],
   "source": [
    "import pandas as pd\n",
    "from oauth2client.service_account import ServiceAccountCredentials\n",
    "import gspread\n",
    "from gspread_dataframe import set_with_dataframe"
   ]
  },
  {
   "cell_type": "markdown",
   "metadata": {},
   "source": [
    "Get your OAuth credentials (http://gspread.readthedocs.io/en/latest/oauth2.html) and share your Spreadsheet with the email address from your oAuth credentials (https://github.com/burnash/gspread/issues/226#issuecomment-97019477).\n",
    "\n",
    "Use your credentials:"
   ]
  },
  {
   "cell_type": "code",
   "execution_count": 43,
   "metadata": {},
   "outputs": [],
   "source": [
    "scope = ['https://spreadsheets.google.com/feeds']\n",
    "credentials = ServiceAccountCredentials.from_json_keyfile_name('credentials.json', scope)\n",
    "gc = gspread.authorize(credentials)"
   ]
  },
  {
   "cell_type": "markdown",
   "metadata": {},
   "source": [
    "Specify your Google Spreadsheet's key:"
   ]
  },
  {
   "cell_type": "code",
   "execution_count": 44,
   "metadata": {},
   "outputs": [],
   "source": [
    "spreadsheet_key = '1jGV6osPquTsWIzby53eHsDX7OFxwWst2ZC_rrMuNykM'"
   ]
  },
  {
   "cell_type": "markdown",
   "metadata": {},
   "source": [
    "Take your dataset …"
   ]
  },
  {
   "cell_type": "code",
   "execution_count": 45,
   "metadata": {},
   "outputs": [
    {
     "data": {
      "text/html": [
       "<div>\n",
       "<style scoped>\n",
       "    .dataframe tbody tr th:only-of-type {\n",
       "        vertical-align: middle;\n",
       "    }\n",
       "\n",
       "    .dataframe tbody tr th {\n",
       "        vertical-align: top;\n",
       "    }\n",
       "\n",
       "    .dataframe thead th {\n",
       "        text-align: right;\n",
       "    }\n",
       "</style>\n",
       "<table border=\"1\" class=\"dataframe\">\n",
       "  <thead>\n",
       "    <tr style=\"text-align: right;\">\n",
       "      <th></th>\n",
       "      <th>id</th>\n",
       "      <th>secret_stuff</th>\n",
       "    </tr>\n",
       "  </thead>\n",
       "  <tbody>\n",
       "    <tr>\n",
       "      <th>0</th>\n",
       "      <td>1</td>\n",
       "      <td>Danish fontina goat dolcelatte</td>\n",
       "    </tr>\n",
       "    <tr>\n",
       "      <th>1</th>\n",
       "      <td>2</td>\n",
       "      <td>Taleggio when the cheese comes out everybody's...</td>\n",
       "    </tr>\n",
       "    <tr>\n",
       "      <th>2</th>\n",
       "      <td>3</td>\n",
       "      <td>Say cheese cheese on toast cow red leicester b...</td>\n",
       "    </tr>\n",
       "    <tr>\n",
       "      <th>3</th>\n",
       "      <td>4</td>\n",
       "      <td>Paneer chalk and cheese cheesy feet manchego m...</td>\n",
       "    </tr>\n",
       "    <tr>\n",
       "      <th>4</th>\n",
       "      <td>5</td>\n",
       "      <td>Parmesan dolcelatte ricotta cheeseburger</td>\n",
       "    </tr>\n",
       "    <tr>\n",
       "      <th>5</th>\n",
       "      <td>6</td>\n",
       "      <td>Cheesecake queso airedale</td>\n",
       "    </tr>\n",
       "    <tr>\n",
       "      <th>6</th>\n",
       "      <td>7</td>\n",
       "      <td>St. agur blue cheese mozzarella babybel cheese...</td>\n",
       "    </tr>\n",
       "    <tr>\n",
       "      <th>7</th>\n",
       "      <td>8</td>\n",
       "      <td>Cheesy grin feta fromage brie parmesan goat ta...</td>\n",
       "    </tr>\n",
       "    <tr>\n",
       "      <th>8</th>\n",
       "      <td>9</td>\n",
       "      <td>Pecorino cheeseburger jarlsberg dolcelatte cot...</td>\n",
       "    </tr>\n",
       "    <tr>\n",
       "      <th>9</th>\n",
       "      <td>10</td>\n",
       "      <td>Babybel port-salut cheesy grin</td>\n",
       "    </tr>\n",
       "  </tbody>\n",
       "</table>\n",
       "</div>"
      ],
      "text/plain": [
       "   id                                       secret_stuff\n",
       "0   1                     Danish fontina goat dolcelatte\n",
       "1   2  Taleggio when the cheese comes out everybody's...\n",
       "2   3  Say cheese cheese on toast cow red leicester b...\n",
       "3   4  Paneer chalk and cheese cheesy feet manchego m...\n",
       "4   5           Parmesan dolcelatte ricotta cheeseburger\n",
       "5   6                          Cheesecake queso airedale\n",
       "6   7  St. agur blue cheese mozzarella babybel cheese...\n",
       "7   8  Cheesy grin feta fromage brie parmesan goat ta...\n",
       "8   9  Pecorino cheeseburger jarlsberg dolcelatte cot...\n",
       "9  10                     Babybel port-salut cheesy grin"
      ]
     },
     "execution_count": 45,
     "metadata": {},
     "output_type": "execute_result"
    }
   ],
   "source": [
    "df = pd.read_csv('some_cheesy_data.csv')\n",
    "df"
   ]
  },
  {
   "cell_type": "markdown",
   "metadata": {},
   "source": [
    "… and export it to your Google Spreadsheet:"
   ]
  },
  {
   "cell_type": "code",
   "execution_count": 46,
   "metadata": {},
   "outputs": [],
   "source": [
    "worksheet = gc.open_by_key(spreadsheet_key).worksheet('stuff')\n",
    "set_with_dataframe(worksheet, df)"
   ]
  },
  {
   "cell_type": "markdown",
   "metadata": {},
   "source": [
    "Now we can use and share the spreadsheet. Pro tip: Use cell protection for data that might change from the script side.\n",
    "\n",
    "Example: http://j.mp/gijc_gspread\n",
    "\n",
    "Later we can re-import Google Spreadsheet data, as well:"
   ]
  },
  {
   "cell_type": "code",
   "execution_count": 47,
   "metadata": {},
   "outputs": [
    {
     "data": {
      "text/html": [
       "<div>\n",
       "<style scoped>\n",
       "    .dataframe tbody tr th:only-of-type {\n",
       "        vertical-align: middle;\n",
       "    }\n",
       "\n",
       "    .dataframe tbody tr th {\n",
       "        vertical-align: top;\n",
       "    }\n",
       "\n",
       "    .dataframe thead th {\n",
       "        text-align: right;\n",
       "    }\n",
       "</style>\n",
       "<table border=\"1\" class=\"dataframe\">\n",
       "  <thead>\n",
       "    <tr style=\"text-align: right;\">\n",
       "      <th></th>\n",
       "      <th>id</th>\n",
       "      <th>secret_stuff</th>\n",
       "      <th>category</th>\n",
       "    </tr>\n",
       "  </thead>\n",
       "  <tbody>\n",
       "    <tr>\n",
       "      <th>0</th>\n",
       "      <td>1</td>\n",
       "      <td>Danish fontina goat dolcelatte</td>\n",
       "      <td>Danish</td>\n",
       "    </tr>\n",
       "    <tr>\n",
       "      <th>1</th>\n",
       "      <td>2</td>\n",
       "      <td>Taleggio when the cheese comes out everybody's...</td>\n",
       "      <td>8</td>\n",
       "    </tr>\n",
       "    <tr>\n",
       "      <th>2</th>\n",
       "      <td>3</td>\n",
       "      <td>Say cheese cheese on toast cow red leicester b...</td>\n",
       "      <td>1</td>\n",
       "    </tr>\n",
       "    <tr>\n",
       "      <th>3</th>\n",
       "      <td>4</td>\n",
       "      <td>Paneer chalk and cheese cheesy feet manchego m...</td>\n",
       "      <td>Spanish</td>\n",
       "    </tr>\n",
       "    <tr>\n",
       "      <th>4</th>\n",
       "      <td>5</td>\n",
       "      <td>Parmesan dolcelatte ricotta cheeseburger</td>\n",
       "      <td>2</td>\n",
       "    </tr>\n",
       "    <tr>\n",
       "      <th>5</th>\n",
       "      <td>6</td>\n",
       "      <td>Cheesecake queso airedale</td>\n",
       "      <td>6</td>\n",
       "    </tr>\n",
       "    <tr>\n",
       "      <th>6</th>\n",
       "      <td>7</td>\n",
       "      <td>St. agur blue cheese mozzarella babybel cheese...</td>\n",
       "      <td>unshure</td>\n",
       "    </tr>\n",
       "    <tr>\n",
       "      <th>7</th>\n",
       "      <td>8</td>\n",
       "      <td>Cheesy grin feta fromage brie parmesan goat ta...</td>\n",
       "      <td>2</td>\n",
       "    </tr>\n",
       "    <tr>\n",
       "      <th>8</th>\n",
       "      <td>9</td>\n",
       "      <td>Pecorino cheeseburger jarlsberg dolcelatte cot...</td>\n",
       "      <td>1</td>\n",
       "    </tr>\n",
       "    <tr>\n",
       "      <th>9</th>\n",
       "      <td>10</td>\n",
       "      <td>Babybel port-salut cheesy grin</td>\n",
       "      <td>cheap_stuff</td>\n",
       "    </tr>\n",
       "  </tbody>\n",
       "</table>\n",
       "</div>"
      ],
      "text/plain": [
       "   id                                       secret_stuff     category\n",
       "0   1                     Danish fontina goat dolcelatte       Danish\n",
       "1   2  Taleggio when the cheese comes out everybody's...            8\n",
       "2   3  Say cheese cheese on toast cow red leicester b...            1\n",
       "3   4  Paneer chalk and cheese cheesy feet manchego m...      Spanish\n",
       "4   5           Parmesan dolcelatte ricotta cheeseburger            2\n",
       "5   6                          Cheesecake queso airedale            6\n",
       "6   7  St. agur blue cheese mozzarella babybel cheese...      unshure\n",
       "7   8  Cheesy grin feta fromage brie parmesan goat ta...            2\n",
       "8   9  Pecorino cheeseburger jarlsberg dolcelatte cot...            1\n",
       "9  10                     Babybel port-salut cheesy grin  cheap_stuff"
      ]
     },
     "execution_count": 47,
     "metadata": {},
     "output_type": "execute_result"
    }
   ],
   "source": [
    "edited_data = worksheet.get_all_values()\n",
    "pd.DataFrame(edited_data, columns=edited_data.pop(0))"
   ]
  },
  {
   "cell_type": "markdown",
   "metadata": {},
   "source": [
    "more stuff …"
   ]
  }
 ],
 "metadata": {
  "kernelspec": {
   "display_name": "Python 3",
   "language": "python",
   "name": "python3"
  },
  "language_info": {
   "codemirror_mode": {
    "name": "ipython",
    "version": 3
   },
   "file_extension": ".py",
   "mimetype": "text/x-python",
   "name": "python",
   "nbconvert_exporter": "python",
   "pygments_lexer": "ipython3",
   "version": "3.6.2"
  }
 },
 "nbformat": 4,
 "nbformat_minor": 2
}
